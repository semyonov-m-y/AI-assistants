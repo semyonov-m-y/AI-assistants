{
  "nbformat": 4,
  "nbformat_minor": 0,
  "metadata": {
    "colab": {
      "provenance": [],
      "authorship_tag": "ABX9TyNmHSVoj7+MFiEJo18xyg8E"
    },
    "kernelspec": {
      "name": "python3",
      "display_name": "Python 3"
    },
    "language_info": {
      "name": "python"
    }
  },
  "cells": [
    {
      "cell_type": "markdown",
      "source": [
        "# Работа с API через библиотеку requests\n",
        "Для начала работы нужно [получить доступ](https://developers.sber.ru/docs/ru/gigachat/api/integration).\n",
        "## Авторизация\n",
        "Объявим ключи для авторизации"
      ],
      "metadata": {
        "id": "UhxINke4kCa8"
      }
    },
    {
      "cell_type": "code",
      "execution_count": 1,
      "metadata": {
        "id": "kIiH4X-WjHTc"
      },
      "outputs": [],
      "source": [
        "# Используем вкладку \"Секреты\" левой панели Colab для хранения ключей\n",
        "from google.colab import userdata\n",
        "client_id = userdata.get('SBER_ID')\n",
        "secret = userdata.get('SBER_SECRET')\n",
        "auth = userdata.get('SBER_AUTH')"
      ]
    },
    {
      "cell_type": "markdown",
      "source": [
        "Для авторизации можно использовать либо пару client_id и secret, но это требует некоторых действий"
      ],
      "metadata": {
        "id": "lNQBBJEilk8Y"
      }
    },
    {
      "cell_type": "code",
      "source": [
        "import base64\n",
        "credentials = f\"{client_id}:{secret}\"\n",
        "encoded_credentials = base64.b64encode(credentials.encode('utf-8')).decode('utf-8')"
      ],
      "metadata": {
        "id": "QHyvxn3sla3f"
      },
      "execution_count": 2,
      "outputs": []
    },
    {
      "cell_type": "markdown",
      "source": [
        "И получаемая в итоге строка идентична нашему ключу auth"
      ],
      "metadata": {
        "id": "Malam8sKntMW"
      }
    },
    {
      "cell_type": "code",
      "source": [
        "encoded_credentials == auth"
      ],
      "metadata": {
        "colab": {
          "base_uri": "https://localhost:8080/"
        },
        "id": "76wp7e7SnsWZ",
        "outputId": "028aa666-d3a5-4569-82b3-a9e7d9430fc0"
      },
      "execution_count": 3,
      "outputs": [
        {
          "output_type": "execute_result",
          "data": {
            "text/plain": [
              "True"
            ]
          },
          "metadata": {},
          "execution_count": 3
        }
      ]
    },
    {
      "cell_type": "markdown",
      "source": [
        "Поэтому используем для авторизации auth.\n",
        "\n",
        "[Документация по авторизации](https://developers.sber.ru/docs/ru/gigachat/api/reference/rest/post-token)"
      ],
      "metadata": {
        "id": "0su5Ut3toDwk"
      }
    },
    {
      "cell_type": "code",
      "source": [
        "import requests\n",
        "import uuid\n",
        "\n",
        "def get_token(auth_token, scope='GIGACHAT_API_PERS'):\n",
        "    \"\"\"\n",
        "      Выполняет POST-запрос к эндпоинту, который выдает токен.\n",
        "\n",
        "      Параметры:\n",
        "      - auth_token (str): токен авторизации, необходимый для запроса.\n",
        "      - область (str): область действия запроса API. По умолчанию — «GIGACHAT_API_PERS».\n",
        "\n",
        "      Возвращает:\n",
        "      - ответ API, где токен и срок его \"годности\".\n",
        "      \"\"\"\n",
        "    # Создадим идентификатор UUID (36 знаков)\n",
        "    rq_uid = str(uuid.uuid4())\n",
        "\n",
        "    # API URL\n",
        "    url = \"https://ngw.devices.sberbank.ru:9443/api/v2/oauth\"\n",
        "\n",
        "    # Заголовки\n",
        "    headers = {\n",
        "        'Content-Type': 'application/x-www-form-urlencoded',\n",
        "        'Accept': 'application/json',\n",
        "        'RqUID': rq_uid,\n",
        "        'Authorization': f'Basic {auth_token}'\n",
        "    }\n",
        "\n",
        "    # Тело запроса\n",
        "    payload = {\n",
        "        'scope': scope\n",
        "    }\n",
        "\n",
        "    try:\n",
        "        # Делаем POST запрос с отключенной SSL верификацией\n",
        "        # (можно скачать сертификаты Минцифры, тогда отключать проверку не надо)\n",
        "        response = requests.post(url, headers=headers, data=payload, verify=False)\n",
        "        return response\n",
        "    except requests.RequestException as e:\n",
        "        print(f\"Ошибка: {str(e)}\")\n",
        "        return -1\n"
      ],
      "metadata": {
        "id": "twVbmbjFoKBY"
      },
      "execution_count": 20,
      "outputs": []
    },
    {
      "cell_type": "code",
      "source": [
        "response = get_token(auth)\n",
        "if response != 1:\n",
        "  print(response.text)\n",
        "  giga_token = response.json()['access_token']"
      ],
      "metadata": {
        "id": "vp8ocSoUsnL5"
      },
      "execution_count": null,
      "outputs": []
    },
    {
      "cell_type": "markdown",
      "source": [
        "## Получение перечня моделей\n",
        "[Документация](https://developers.sber.ru/docs/ru/gigachat/api/reference/rest/get-models)"
      ],
      "metadata": {
        "id": "5XRkDeSKlT-k"
      }
    },
    {
      "cell_type": "code",
      "source": [
        "import requests\n",
        "\n",
        "url = \"https://gigachat.devices.sberbank.ru/api/v1/models\"\n",
        "\n",
        "payload={}\n",
        "headers = {\n",
        "  'Accept': 'application/json',\n",
        "  'Authorization': f'Bearer {giga_token}'\n",
        "}\n",
        "\n",
        "response = requests.request(\"GET\", url, headers=headers, data=payload, verify=False)\n",
        "\n",
        "print(response.text)"
      ],
      "metadata": {
        "id": "dYNDZdYcPkzA"
      },
      "execution_count": null,
      "outputs": []
    },
    {
      "cell_type": "markdown",
      "source": [
        "## Сделаем запросы на генерацию текста\n",
        "Начнем с отправки отдельных сообщений"
      ],
      "metadata": {
        "id": "ZWkoaz0gxoDZ"
      }
    },
    {
      "cell_type": "code",
      "source": [
        "import requests\n",
        "import json\n",
        "\n",
        "def get_chat_completion(auth_token, user_message):\n",
        "    \"\"\"\n",
        "    Отправляет POST-запрос к API чата для получения ответа от модели GigaChat.\n",
        "\n",
        "    Параметры:\n",
        "    - auth_token (str): Токен для авторизации в API.\n",
        "    - user_message (str): Сообщение от пользователя, для которого нужно получить ответ.\n",
        "\n",
        "    Возвращает:\n",
        "    - str: Ответ от API в виде текстовой строки.\n",
        "    \"\"\"\n",
        "    # URL API, к которому мы обращаемся\n",
        "    url = \"https://gigachat.devices.sberbank.ru/api/v1/chat/completions\"\n",
        "\n",
        "    # Подготовка данных запроса в формате JSON\n",
        "    payload = json.dumps({\n",
        "        \"model\": \"GigaChat\",  # Используемая модель\n",
        "        \"messages\": [\n",
        "            {\n",
        "                \"role\": \"user\",  # Роль отправителя (пользователь)\n",
        "                \"content\": user_message  # Содержание сообщения\n",
        "            }\n",
        "        ],\n",
        "        \"temperature\": 1,  # Температура генерации\n",
        "        \"top_p\": 0.1,  # Параметр top_p для контроля разнообразия ответов\n",
        "        \"n\": 1,  # Количество возвращаемых ответов\n",
        "        \"stream\": False,  # Потоковая ли передача ответов\n",
        "        \"max_tokens\": 512,  # Максимальное количество токенов в ответе\n",
        "        \"repetition_penalty\": 1,  # Штраф за повторения\n",
        "        \"update_interval\": 0  # Интервал обновления (для потоковой передачи)\n",
        "    })\n",
        "\n",
        "    # Заголовки запроса\n",
        "    headers = {\n",
        "        'Content-Type': 'application/json',  # Тип содержимого - JSON\n",
        "        'Accept': 'application/json',  # Принимаем ответ в формате JSON\n",
        "        'Authorization': f'Bearer {auth_token}'  # Токен авторизации\n",
        "    }\n",
        "\n",
        "    # Выполнение POST-запроса и возвращение ответа\n",
        "    try:\n",
        "        response = requests.request(\"POST\", url, headers=headers, data=payload, verify=False)\n",
        "        return response\n",
        "    except requests.RequestException as e:\n",
        "        # Обработка исключения в случае ошибки запроса\n",
        "        print(f\"Произошла ошибка: {str(e)}\")\n",
        "        return -1\n",
        "\n"
      ],
      "metadata": {
        "id": "IW07KDmPtBY5"
      },
      "execution_count": 7,
      "outputs": []
    },
    {
      "cell_type": "code",
      "source": [
        "answer = get_chat_completion(giga_token, 'Как на Пайтоне сделать GET запрос?')"
      ],
      "metadata": {
        "id": "tk8wXlYpym4Q"
      },
      "execution_count": null,
      "outputs": []
    },
    {
      "cell_type": "code",
      "source": [
        "answer.json()"
      ],
      "metadata": {
        "id": "meb0EHrc22kH"
      },
      "execution_count": null,
      "outputs": []
    },
    {
      "cell_type": "code",
      "source": [
        "print(answer.json()['choices'][0]['message']['content'])"
      ],
      "metadata": {
        "id": "go-gSwti3ItM"
      },
      "execution_count": null,
      "outputs": []
    },
    {
      "cell_type": "code",
      "source": [
        "from IPython.display import display, Markdown\n",
        "display(Markdown(answer.json()['choices'][0]['message']['content']))"
      ],
      "metadata": {
        "id": "tFVwwNeH3ilE"
      },
      "execution_count": null,
      "outputs": []
    },
    {
      "cell_type": "markdown",
      "source": [
        "## Создадим диалог"
      ],
      "metadata": {
        "id": "Za2yDvE3G2qz"
      }
    },
    {
      "cell_type": "code",
      "source": [
        "import requests\n",
        "import json\n",
        "\n",
        "def get_chat_completion(auth_token, user_message, conversation_history=None):\n",
        "    \"\"\"\n",
        "    Отправляет POST-запрос к API чата для получения ответа от модели GigaChat в рамках диалога.\n",
        "\n",
        "    Параметры:\n",
        "    - auth_token (str): Токен для авторизации в API.\n",
        "    - user_message (str): Сообщение от пользователя, для которого нужно получить ответ.\n",
        "    - conversation_history (list): История диалога в виде списка сообщений (опционально).\n",
        "\n",
        "    Возвращает:\n",
        "    - response (requests.Response): Ответ от API.\n",
        "    - conversation_history (list): Обновленная история диалога.\n",
        "    \"\"\"\n",
        "    # URL API, к которому мы обращаемся\n",
        "    url = \"https://gigachat.devices.sberbank.ru/api/v1/chat/completions\"\n",
        "\n",
        "    # Если история диалога не предоставлена, инициализируем пустым списком\n",
        "    if conversation_history is None:\n",
        "        conversation_history = []\n",
        "\n",
        "    # Добавляем сообщение пользователя в историю диалога\n",
        "    conversation_history.append({\n",
        "        \"role\": \"user\",\n",
        "        \"content\": user_message\n",
        "    })\n",
        "\n",
        "    # Подготовка данных запроса в формате JSON\n",
        "    payload = json.dumps({\n",
        "        \"model\": \"GigaChat:latest\",\n",
        "        \"messages\": conversation_history,\n",
        "        \"temperature\": 1,\n",
        "        \"top_p\": 0.1,\n",
        "        \"n\": 1,\n",
        "        \"stream\": False,\n",
        "        \"max_tokens\": 512,\n",
        "        \"repetition_penalty\": 1,\n",
        "        \"update_interval\": 0\n",
        "    })\n",
        "\n",
        "    # Заголовки запроса\n",
        "    headers = {\n",
        "        'Content-Type': 'application/json',\n",
        "        'Accept': 'application/json',\n",
        "        'Authorization': f'Bearer {auth_token}'\n",
        "    }\n",
        "\n",
        "    # Выполнение POST-запроса и возвращение ответа\n",
        "    try:\n",
        "        response = requests.post(url, headers=headers, data=payload, verify=False)\n",
        "        response_data = response.json()\n",
        "        print(response_data)\n",
        "\n",
        "        # Добавляем ответ модели в историю диалога\n",
        "        conversation_history.append({\n",
        "            \"role\": \"assistant\",\n",
        "            \"content\": response_data['choices'][0]['message']['content']\n",
        "        })\n",
        "\n",
        "        return response, conversation_history\n",
        "    except requests.RequestException as e:\n",
        "        # Обработка исключения в случае ошибки запроса\n",
        "        print(f\"Произошла ошибка: {str(e)}\")\n",
        "        return None, conversation_history\n",
        "\n"
      ],
      "metadata": {
        "id": "wizk0o-CEf9m"
      },
      "execution_count": 12,
      "outputs": []
    },
    {
      "cell_type": "code",
      "source": [
        "# Пример использования функции для диалога\n",
        "\n",
        "conversation_history = []\n",
        "\n",
        "# Пользователь отправляет первое сообщение\n",
        "response, conversation_history = get_chat_completion(giga_token, \"Привет, как дела?\", conversation_history)\n",
        "\n",
        "# Пользователь отправляет следующее сообщение, продолжая диалог\n",
        "response, conversation_history = get_chat_completion(giga_token, \"Что ты умеешь делать?\", conversation_history)\n"
      ],
      "metadata": {
        "id": "sZQpjXYBs6E9"
      },
      "execution_count": null,
      "outputs": []
    },
    {
      "cell_type": "code",
      "source": [
        "conversation_history"
      ],
      "metadata": {
        "id": "YG6Rz4peKMJn"
      },
      "execution_count": null,
      "outputs": []
    },
    {
      "cell_type": "markdown",
      "source": [
        "## Добавим системный промпт\n",
        "Системный промпт определяет роль, задавать контект и особенности общения бота с пользователем."
      ],
      "metadata": {
        "id": "8A5ZMbPYVh2w"
      }
    },
    {
      "cell_type": "code",
      "source": [
        "conversation_history = [{\n",
        "    'role': 'system',\n",
        "    'content': 'Отвечай как бывалый пират. Пусть тебя зовут Генри Морган.'\n",
        "\n",
        "}\n",
        "\n",
        "]"
      ],
      "metadata": {
        "id": "6INL_XYbVhHI"
      },
      "execution_count": 15,
      "outputs": []
    },
    {
      "cell_type": "code",
      "source": [
        "response, conversation_history = get_chat_completion(giga_token, 'Привет, друг!', conversation_history)"
      ],
      "metadata": {
        "id": "IuXqi4FbXvUz"
      },
      "execution_count": null,
      "outputs": []
    },
    {
      "cell_type": "code",
      "source": [
        "response.json()['choices'][0]['message']['content']"
      ],
      "metadata": {
        "id": "jYnW5lZJtRRE"
      },
      "execution_count": null,
      "outputs": []
    },
    {
      "cell_type": "markdown",
      "source": [
        "## Генерация картинок Кандинским\n",
        "[Документация](https://developers.sber.ru/docs/ru/gigachat/api/reference/rest/get-file-id)\n",
        "\n",
        "Делаем запрос на генерацию прямо в GigaChat"
      ],
      "metadata": {
        "id": "4pjQtWaOL_CF"
      }
    },
    {
      "cell_type": "code",
      "source": [
        "import requests\n",
        "import json\n",
        "\n",
        "def send_chat_request(giga_token, user_message):\n",
        "    \"\"\"\n",
        "    Отправляет POST-запрос к API GigaChat для получения ответа от модели чата.\n",
        "\n",
        "    Параметры:\n",
        "    - giga_token (str): Токен авторизации для доступа к API GigaChat.\n",
        "    - user_message (str): Сообщение пользователя, которое будет обработано моделью GigaChat.\n",
        "\n",
        "    Возвращает:\n",
        "    - str: Строка сгенерированного ответа GigaChat с тэгом img\n",
        "    \"\"\"\n",
        "    # URL API для отправки запросов к GigaChat\n",
        "    url = \"https://gigachat.devices.sberbank.ru/api/v1/chat/completions\"\n",
        "\n",
        "    # Заголовки для HTTP-запроса\n",
        "    headers = {\n",
        "        'Content-Type': 'application/json',  # Указываем, что отправляемые данные в формате JSON\n",
        "        'Authorization': f'Bearer {giga_token}',  # Используем токен авторизации для доступа к API\n",
        "    }\n",
        "\n",
        "    # Данные для отправки в теле запроса\n",
        "    payload = {\n",
        "        \"model\": \"GigaChat:latest\",  # Указываем, что хотим использовать последнюю версию модели GigaChat\n",
        "        \"messages\": [\n",
        "            {\n",
        "                \"role\": \"user\",  # Роль отправителя - пользователь\n",
        "                \"content\": user_message  # Сообщение от пользователя\n",
        "            },\n",
        "        ],\n",
        "        \"temperature\": 0.7  # Устанавливаем температуру, чтобы управлять случайностью ответов\n",
        "    }\n",
        "\n",
        "    try:\n",
        "        # Отправляем POST-запрос к API и получаем ответ\n",
        "        response = requests.post(url, headers=headers, data=json.dumps(payload), verify=False)\n",
        "        # Выводим текст ответа. В реальных условиях следует обрабатывать ответ и проверять статус коды.\n",
        "        print(response.json())\n",
        "        return response.json()[\"choices\"][0][\"message\"][\"content\"]\n",
        "    except requests.RequestException as e:\n",
        "        # В случае возникновения исключения в процессе выполнения запроса, выводим ошибку\n",
        "        print(f\"Произошла ошибка: {str(e)}\")\n",
        "        return None\n",
        "\n",
        "\n",
        "\n"
      ],
      "metadata": {
        "id": "km8eWEvzKOkz"
      },
      "execution_count": 22,
      "outputs": []
    },
    {
      "cell_type": "code",
      "source": [
        "user_message = \"Нарисуй фотореалистичное изображение антропоморфного робота с \\\n",
        "ноутбуком в руках\"\n",
        "response_img_tag = send_chat_request(giga_token, user_message)\n",
        "print(response_img_tag)"
      ],
      "metadata": {
        "id": "Hl_eXKXvvMaD"
      },
      "execution_count": null,
      "outputs": []
    },
    {
      "cell_type": "markdown",
      "source": [
        "Получаем само изображение и сохраняем его в файл"
      ],
      "metadata": {
        "id": "-obvskmd8v-w"
      }
    },
    {
      "cell_type": "code",
      "source": [
        "from bs4 import BeautifulSoup\n",
        "\n",
        "\n",
        "\n",
        "# Парсим HTML\n",
        "soup = BeautifulSoup(response_img_tag, 'html.parser')\n",
        "\n",
        "# Извлекаем значение атрибута `src`\n",
        "img_src = soup.img['src']\n",
        "\n",
        "print(img_src)"
      ],
      "metadata": {
        "id": "00rkAbJn8Tua"
      },
      "execution_count": null,
      "outputs": []
    },
    {
      "cell_type": "code",
      "source": [
        "import requests\n",
        "\n",
        "headers = {\n",
        "    'Content-Type': 'application/json',\n",
        "    'Authorization': f'Bearer {giga_token}',\n",
        "}\n",
        "\n",
        "response = requests.get(f'https://gigachat.devices.sberbank.ru/api/v1/files/{img_src}/content', headers=headers, verify=False)"
      ],
      "metadata": {
        "id": "0n4jcaJn9n-7"
      },
      "execution_count": null,
      "outputs": []
    },
    {
      "cell_type": "code",
      "source": [
        "with open('image.jpg', 'wb') as f:\n",
        "    f.write(response.content)"
      ],
      "metadata": {
        "id": "mp4DRNxY902j"
      },
      "execution_count": 26,
      "outputs": []
    },
    {
      "cell_type": "code",
      "source": [],
      "metadata": {
        "id": "MHUEMF3O-KQT"
      },
      "execution_count": null,
      "outputs": []
    }
  ]
}