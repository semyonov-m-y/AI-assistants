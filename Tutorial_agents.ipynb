{
  "nbformat": 4,
  "nbformat_minor": 0,
  "metadata": {
    "colab": {
      "provenance": [],
      "authorship_tag": "ABX9TyMP7lj8hQRV9bFCma0LsxSx",
      "include_colab_link": true
    },
    "kernelspec": {
      "name": "python3",
      "display_name": "Python 3"
    },
    "language_info": {
      "name": "python"
    }
  },
  "cells": [
    {
      "cell_type": "markdown",
      "metadata": {
        "id": "view-in-github",
        "colab_type": "text"
      },
      "source": [
        "<a href=\"https://colab.research.google.com/github/trashchenkov/gigachat_tutorials/blob/main/%D0%90%D0%B3%D0%B5%D0%BD%D1%82%D1%8B_%D0%B2_%D0%93%D0%B8%D0%B3%D0%B0%D1%87%D0%B5%D0%B9%D0%BD%D0%B5.ipynb\" target=\"_parent\"><img src=\"https://colab.research.google.com/assets/colab-badge.svg\" alt=\"Open In Colab\"/></a>"
      ]
    },
    {
      "cell_type": "markdown",
      "source": [
        "## Что такое агенты?\n",
        "\n",
        "В этом туториале мы научимся создавать агентов. **Агенты** - это важная тема, постоянно сопровождающая дискуссии о больших языковых моделях.\n",
        "\n",
        "Основное предназначение языковых моделей - это генерация текста на основе промпта. Но что будет, если языковую модель снабдить инструментами и инструкциями, как ими пользоваться? Сможет ли она эффективно решать реальные задачи?\n",
        "\n",
        "Агент в этом смысле представляет собой языковую модель, которой предоставили **инструменты** и ставят задачи, а она *самостоятельно* выбирает пути решения и обращается к инструментам.\n",
        "\n",
        "Под инструментами мы будем понимать питоновские функции. Языковая модель сможет их вызывать, передавая нужные аргументы и используя получаемые результаты. Таким образом, например, можно организовать доступ большой языковой модели в Интернет, чтобы она могла получить контекст для ответа на вопрос, выходящий за пределы доступных ей знаний. Или посчитать математический пример с помощью калькулятора, чтобы не допустить ошибок в вычислениях.\n",
        "\n",
        "Для создания агентов нужны модели специальной разновидности, которые способны выдавать генерируемый ответ в определенном формате."
      ],
      "metadata": {
        "id": "XZzejG4yQ2on"
      }
    },
    {
      "cell_type": "markdown",
      "source": [
        "## Какого агента мы создадим?\n",
        "В этом туториале мы создадим ассистента с набором инструментов. В качестве инструментов будут следующие функции:\n",
        "- просмотра перечня заметок;\n",
        "- создания новой заметки;\n",
        "- просмотра содержимого отдельной заметки;\n",
        "- поиска информации в Интернете;\n",
        "- поиск роликов на ютубе и их саммаризация.\n",
        "\n",
        "Для реализации такого агента нам понадобится ряд библиотек:\n",
        "- gigachain для создания агента;\n",
        "- duckduckgo-search для поиска в Сети;\n",
        "- gradio для графического интерфейса диалога;\n",
        "- youtube-search для поиска видео по запросу;\n",
        "- youtube-search-python для извлечения метаданных о ролике;\n",
        "- youtube-transcript-api для извлечения субтитров.\n",
        "\n"
      ],
      "metadata": {
        "id": "OKJwHmQAPLrF"
      }
    },
    {
      "cell_type": "code",
      "source": [
        "from google.colab import userdata\n",
        "auth = userdata.get('SBER_AUTH')\n",
        "auth1 = userdata.get('SBER1')"
      ],
      "metadata": {
        "id": "2ohZwTs0hSfl"
      },
      "execution_count": 1,
      "outputs": []
    },
    {
      "cell_type": "code",
      "source": [
        "!pip install -q gigachain\n",
        "!pip install -q duckduckgo-search\n",
        "!pip install -q youtube-transcript-api\n",
        "!pip install -q youtube-search\n",
        "!pip install -q gradio\n",
        "!pip install -q youtube-search-python"
      ],
      "metadata": {
        "colab": {
          "base_uri": "https://localhost:8080/"
        },
        "id": "xmSgGD68hhJr",
        "outputId": "2c20bac0-4200-425a-b892-516541aac6f9"
      },
      "execution_count": null,
      "outputs": [
        {
          "output_type": "stream",
          "name": "stdout",
          "text": [
            "\u001b[2K     \u001b[90m━━━━━━━━━━━━━━━━━━━━━━━━━━━━━━━━━━━━━━━━\u001b[0m \u001b[32m843.3/843.3 kB\u001b[0m \u001b[31m9.1 MB/s\u001b[0m eta \u001b[36m0:00:00\u001b[0m\n",
            "\u001b[2K     \u001b[90m━━━━━━━━━━━━━━━━━━━━━━━━━━━━━━━━━━━━━━━━\u001b[0m \u001b[32m1.9/1.9 MB\u001b[0m \u001b[31m20.3 MB/s\u001b[0m eta \u001b[36m0:00:00\u001b[0m\n",
            "\u001b[2K     \u001b[90m━━━━━━━━━━━━━━━━━━━━━━━━━━━━━━━━━━━━━━━━\u001b[0m \u001b[32m292.5/292.5 kB\u001b[0m \u001b[31m18.6 MB/s\u001b[0m eta \u001b[36m0:00:00\u001b[0m\n",
            "\u001b[2K     \u001b[90m━━━━━━━━━━━━━━━━━━━━━━━━━━━━━━━━━━━━━━━━\u001b[0m \u001b[32m116.4/116.4 kB\u001b[0m \u001b[31m11.7 MB/s\u001b[0m eta \u001b[36m0:00:00\u001b[0m\n",
            "\u001b[2K     \u001b[90m━━━━━━━━━━━━━━━━━━━━━━━━━━━━━━━━━━━━━━━━\u001b[0m \u001b[32m49.4/49.4 kB\u001b[0m \u001b[31m6.0 MB/s\u001b[0m eta \u001b[36m0:00:00\u001b[0m\n",
            "\u001b[2K     \u001b[90m━━━━━━━━━━━━━━━━━━━━━━━━━━━━━━━━━━━━━━━━\u001b[0m \u001b[32m53.0/53.0 kB\u001b[0m \u001b[31m5.5 MB/s\u001b[0m eta \u001b[36m0:00:00\u001b[0m\n",
            "\u001b[2K     \u001b[90m━━━━━━━━━━━━━━━━━━━━━━━━━━━━━━━━━━━━━━━━\u001b[0m \u001b[32m142.7/142.7 kB\u001b[0m \u001b[31m16.1 MB/s\u001b[0m eta \u001b[36m0:00:00\u001b[0m\n",
            "\u001b[2K     \u001b[90m━━━━━━━━━━━━━━━━━━━━━━━━━━━━━━━━━━━━━━━━\u001b[0m \u001b[32m75.6/75.6 kB\u001b[0m \u001b[31m7.8 MB/s\u001b[0m eta \u001b[36m0:00:00\u001b[0m\n",
            "\u001b[2K     \u001b[90m━━━━━━━━━━━━━━━━━━━━━━━━━━━━━━━━━━━━━━━━\u001b[0m \u001b[32m77.9/77.9 kB\u001b[0m \u001b[31m8.0 MB/s\u001b[0m eta \u001b[36m0:00:00\u001b[0m\n",
            "\u001b[2K     \u001b[90m━━━━━━━━━━━━━━━━━━━━━━━━━━━━━━━━━━━━━━━━\u001b[0m \u001b[32m58.3/58.3 kB\u001b[0m \u001b[31m5.2 MB/s\u001b[0m eta \u001b[36m0:00:00\u001b[0m\n",
            "\u001b[2K     \u001b[90m━━━━━━━━━━━━━━━━━━━━━━━━━━━━━━━━━━━━━━━━\u001b[0m \u001b[32m5.5/5.5 MB\u001b[0m \u001b[31m21.9 MB/s\u001b[0m eta \u001b[36m0:00:00\u001b[0m\n",
            "\u001b[2K     \u001b[90m━━━━━━━━━━━━━━━━━━━━━━━━━━━━━━━━━━━━━━━━\u001b[0m \u001b[32m12.2/12.2 MB\u001b[0m \u001b[31m42.5 MB/s\u001b[0m eta \u001b[36m0:00:00\u001b[0m\n",
            "\u001b[2K     \u001b[90m━━━━━━━━━━━━━━━━━━━━━━━━━━━━━━━━━━━━━━━━\u001b[0m \u001b[32m91.8/91.8 kB\u001b[0m \u001b[31m11.4 MB/s\u001b[0m eta \u001b[36m0:00:00\u001b[0m\n",
            "\u001b[?25h  Preparing metadata (setup.py) ... \u001b[?25l\u001b[?25hdone\n",
            "\u001b[2K     \u001b[90m━━━━━━━━━━━━━━━━━━━━━━━━━━━━━━━━━━━━━━━━\u001b[0m \u001b[32m314.4/314.4 kB\u001b[0m \u001b[31m22.5 MB/s\u001b[0m eta \u001b[36m0:00:00\u001b[0m\n",
            "\u001b[2K     \u001b[90m━━━━━━━━━━━━━━━━━━━━━━━━━━━━━━━━━━━━━━━━\u001b[0m \u001b[32m8.8/8.8 MB\u001b[0m \u001b[31m76.6 MB/s\u001b[0m eta \u001b[36m0:00:00\u001b[0m\n",
            "\u001b[2K     \u001b[90m━━━━━━━━━━━━━━━━━━━━━━━━━━━━━━━━━━━━━━━━\u001b[0m \u001b[32m47.2/47.2 kB\u001b[0m \u001b[31m4.8 MB/s\u001b[0m eta \u001b[36m0:00:00\u001b[0m\n",
            "\u001b[2K     \u001b[90m━━━━━━━━━━━━━━━━━━━━━━━━━━━━━━━━━━━━━━━━\u001b[0m \u001b[32m60.8/60.8 kB\u001b[0m \u001b[31m7.1 MB/s\u001b[0m eta \u001b[36m0:00:00\u001b[0m\n",
            "\u001b[2K     \u001b[90m━━━━━━━━━━━━━━━━━━━━━━━━━━━━━━━━━━━━━━━━\u001b[0m \u001b[32m129.9/129.9 kB\u001b[0m \u001b[31m15.0 MB/s\u001b[0m eta \u001b[36m0:00:00\u001b[0m\n",
            "\u001b[2K     \u001b[90m━━━━━━━━━━━━━━━━━━━━━━━━━━━━━━━━━━━━━━━━\u001b[0m \u001b[32m71.9/71.9 kB\u001b[0m \u001b[31m7.8 MB/s\u001b[0m eta \u001b[36m0:00:00\u001b[0m\n",
            "\u001b[?25h  Building wheel for ffmpy (setup.py) ... \u001b[?25l\u001b[?25hdone\n",
            "\u001b[31mERROR: pip's dependency resolver does not currently take into account all the packages that are installed. This behaviour is the source of the following dependency conflicts.\n",
            "spacy 3.7.4 requires typer<0.10.0,>=0.3.0, but you have typer 0.12.3 which is incompatible.\n",
            "weasel 0.3.4 requires typer<0.10.0,>=0.3.0, but you have typer 0.12.3 which is incompatible.\u001b[0m\u001b[31m\n",
            "\u001b[2K     \u001b[90m━━━━━━━━━━━━━━━━━━━━━━━━━━━━━━━━━━━━━━━━\u001b[0m \u001b[32m89.1/89.1 kB\u001b[0m \u001b[31m2.9 MB/s\u001b[0m eta \u001b[36m0:00:00\u001b[0m\n",
            "\u001b[?25h"
          ]
        }
      ]
    },
    {
      "cell_type": "markdown",
      "source": [
        "## Предварительный пример\n",
        "\n",
        "Прежде чем создавать сложного агента с большим количеством инструментов, давайте сделаем простой пример, чтобы посмотреть, как ведет себя модель при необходимости вызвать функцию."
      ],
      "metadata": {
        "id": "Zr87JztIb5y7"
      }
    },
    {
      "cell_type": "code",
      "source": [
        "from langchain.chat_models.gigachat import GigaChat"
      ],
      "metadata": {
        "id": "1NRXPJxphdj-"
      },
      "execution_count": 2,
      "outputs": []
    },
    {
      "cell_type": "markdown",
      "source": [
        "В создании объекта класса GigaChat нет ничего необычного, главное указать модель, которая точно поддерживает вызов функций. Для этого смотрите [документацию](https://developers.sber.ru/docs/ru/gigachat/models)."
      ],
      "metadata": {
        "id": "azbnMbx_c-nI"
      }
    },
    {
      "cell_type": "code",
      "source": [
        "giga = GigaChat(credentials=auth1,\n",
        "                model='GigaChat-Pro-preview',\n",
        "                # пока название модели такое,\n",
        "                # обещают, что скоро можно будет просто GigaChat указывать\n",
        "                verify_ssl_certs=False,\n",
        "                scope='GIGACHAT_API_CORP'\n",
        "                )"
      ],
      "metadata": {
        "id": "osWdxN1pQ28O"
      },
      "execution_count": 17,
      "outputs": []
    },
    {
      "cell_type": "code",
      "execution_count": 3,
      "metadata": {
        "id": "uvfJENumhN4W"
      },
      "outputs": [],
      "source": [
        "giga = GigaChat(credentials=auth,\n",
        "                model='GigaChat-preview',\n",
        "                # пока название модели такое,\n",
        "                # обещают, что скоро можно будет просто GigaChat указывать\n",
        "                verify_ssl_certs=False\n",
        "                )"
      ]
    },
    {
      "cell_type": "markdown",
      "source": [
        "Инструменты - это питоновские функции. Главное указать декоратор @tool и дать детальное описание того, что делает инструмент и как он это делает. На это описание будет опираться модель при выборе и вызове инструмента."
      ],
      "metadata": {
        "id": "YkE8T8lldgXH"
      }
    },
    {
      "cell_type": "code",
      "source": [
        "from langchain_core.tools import tool\n",
        "\n",
        "\n",
        "@tool\n",
        "def add(a: int, b: int) -> int:\n",
        "    \"\"\"Складывает числа a и b.\"\"\"\n",
        "    return a + b\n",
        "\n",
        "\n",
        "@tool\n",
        "def multiply(a: int, b: int) -> int:\n",
        "    \"\"\"Умножает a на b.\"\"\"\n",
        "    return a * b\n",
        "\n",
        "\n",
        "tools = [add, multiply]"
      ],
      "metadata": {
        "id": "8vZeINJ-hppA"
      },
      "execution_count": 4,
      "outputs": []
    },
    {
      "cell_type": "markdown",
      "source": [
        "Далее список инструментов связываем с языковой моделью."
      ],
      "metadata": {
        "id": "-ik6tReieU-A"
      }
    },
    {
      "cell_type": "code",
      "source": [
        "llm_with_tools = giga.bind_tools(tools)"
      ],
      "metadata": {
        "id": "FT6ZZOtMhvGL"
      },
      "execution_count": 5,
      "outputs": []
    },
    {
      "cell_type": "markdown",
      "source": [
        "При передаче запроса модели она может выбрать вызов функции-инструмента, если посчитает это необходимым."
      ],
      "metadata": {
        "id": "xTr1mak-ekWT"
      }
    },
    {
      "cell_type": "code",
      "source": [
        "query = \"Сколько будет 3 * 12? А еще сколько будет 47 плюс 20\"\n",
        "llm_with_tools.invoke(query)"
      ],
      "metadata": {
        "colab": {
          "base_uri": "https://localhost:8080/"
        },
        "id": "Zld8mlRshxI2",
        "outputId": "f8065dc5-36ea-41b4-a39f-a26103038735"
      },
      "execution_count": 7,
      "outputs": [
        {
          "output_type": "stream",
          "name": "stderr",
          "text": [
            "WARNING:langchain_community.chat_models.gigachat:Giga generation stopped with reason: function_call\n"
          ]
        },
        {
          "output_type": "execute_result",
          "data": {
            "text/plain": [
              "AIMessage(content='', additional_kwargs={'function_call': {'name': 'multiply', 'arguments': {'a': 3, 'b': 12}}}, response_metadata={'token_usage': Usage(prompt_tokens=127, completion_tokens=17, total_tokens=144), 'model_name': 'GigaChat-preview:3.1.25.3', 'finish_reason': 'function_call'}, id='run-5836b97f-7264-4793-b969-8df65b787455-0', tool_calls=[{'name': 'multiply', 'args': {'a': 3, 'b': 12}, 'id': '755e0085-4a3c-42c6-8062-f2dc2e89a193'}])"
            ]
          },
          "metadata": {},
          "execution_count": 7
        }
      ]
    },
    {
      "cell_type": "markdown",
      "source": [
        "В примере выше модель сгенерировала ответ в виде запроса на вызов функции. Как видите, атрибут `content` вернулся пустым (обычно там сгенерированный текст). Зато в ответе есть такое:\n",
        "\n",
        "```\n",
        "additional_kwargs={'function_call': {'name': 'multiply', 'arguments': {'a': 3, 'b': 12}}}\n",
        "```\n",
        "\n",
        "Таким образом модель выдала нам структурированный ответ, который можно использовать в программном коде. В нашем случае мы четко видим название функции и передаваемые значения аргументов."
      ],
      "metadata": {
        "id": "NLNoBvVye-AS"
      }
    },
    {
      "cell_type": "markdown",
      "source": [
        "## Создание полноценного агента\n",
        "Теперь, когда мы понимаем, как отвечает модель, чтобы вызвать инструмент, приступим к созданию полноценного ИИ-ассистента.\n",
        "\n",
        "Для начала создадим все инструменты. Будем прописывать каждый инструмент в отдельной ячейке со своими импортами, чтобы было понятнее.\n",
        "\n",
        "Условно, все инструменты из этого туториала можно разделить на две группы:\n",
        "- работа с заметками;\n",
        "- поиск информации в Интернете и на Ютубе.\n",
        "\n",
        "Отдельным инструментом, который не вошел в эти две группы является функция по стиранию диалога (перезапуск беседы).\n",
        "\n",
        "Сперва разберемся с инструментами для заметок.\n",
        "\n",
        "\n",
        "### Работа с заметками\n",
        "\n",
        "Несколько подготовительных действий:\n",
        "- создадим папку под хранение заметок;\n",
        "- для работы с файлами применим компонент `FileManagementToolkit`.\n",
        "\n",
        "\n",
        "\n"
      ],
      "metadata": {
        "id": "Kv78Xb8OgTry"
      }
    },
    {
      "cell_type": "code",
      "source": [
        "!mkdir Заметки\n",
        "from langchain_community.agent_toolkits import FileManagementToolkit\n",
        "file_tools = FileManagementToolkit(\n",
        "    root_dir=\"/content/Заметки\")"
      ],
      "metadata": {
        "id": "GRijom94LrWG"
      },
      "execution_count": 5,
      "outputs": []
    },
    {
      "cell_type": "code",
      "source": [
        "file_tools.get_tools()[-1].invoke({}).split('\\n')"
      ],
      "metadata": {
        "colab": {
          "base_uri": "https://localhost:8080/"
        },
        "id": "pOSpLNqyW2xW",
        "outputId": "79d1cee0-2274-4988-95ce-6f03d6ea797e"
      },
      "execution_count": 8,
      "outputs": [
        {
          "output_type": "execute_result",
          "data": {
            "text/plain": [
              "['No files found in directory .']"
            ]
          },
          "metadata": {},
          "execution_count": 8
        }
      ]
    },
    {
      "cell_type": "markdown",
      "source": [
        "#### Инструмент для получения списка сохраненных заметок"
      ],
      "metadata": {
        "id": "YzFHqb6dVac9"
      }
    },
    {
      "cell_type": "code",
      "source": [
        "from langchain_core.tools import tool\n",
        "\n",
        "@tool\n",
        "def get_list_of_notes() -> str:\n",
        "  \"\"\"Возвращает список файлов в папке заметок. В названии заметок \\\n",
        "  содержится тема заметки и ее порядковый номер.\n",
        "  \"\"\"\n",
        "  check_notes = file_tools.get_tools()[-1]\n",
        "  return check_notes.invoke({})"
      ],
      "metadata": {
        "id": "680ccO3ZVUcC"
      },
      "execution_count": 6,
      "outputs": []
    },
    {
      "cell_type": "markdown",
      "source": [
        "#### Инструмент для создания заметки"
      ],
      "metadata": {
        "id": "eFDEiI1JZeRJ"
      }
    },
    {
      "cell_type": "code",
      "source": [
        "@tool\n",
        "def write_note(topic: str, text: str) -> str:\n",
        "  '''Записывает текст в заметку. Нужно передать тему в качестве части названия \\\n",
        "  будущего файла заметки (дата и время прибавлятся в название автоматически) и \\\n",
        "  текст самой заметки. В качестве ответа функция возвращает сообщение об успешной записи.\n",
        "  '''\n",
        "  writer_tool = file_tools.get_tools()[-2]\n",
        "  check_notes = file_tools.get_tools()[-1]\n",
        "  n = len(check_notes.invoke({}).split('\\n'))\n",
        "  return writer_tool.invoke({\"file_path\": topic+f' {n}'+'.txt', 'text': text})"
      ],
      "metadata": {
        "id": "uh0cxwNXVuCU"
      },
      "execution_count": 9,
      "outputs": []
    },
    {
      "cell_type": "markdown",
      "source": [
        "#### Инструмент для чтения заметки"
      ],
      "metadata": {
        "id": "Gwrme2akbJz6"
      }
    },
    {
      "cell_type": "code",
      "source": [
        "@tool\n",
        "def read_note(file_name: str) -> str:\n",
        "  '''Возвращает содержимое заметки в ответ на заданное имя файла. \\\n",
        "  Если имя указано неправильно, вернет сообщение об ошибке. \\\n",
        "  Имя файла заметки имеет вид \"Тема заметки N.txt\".\n",
        "  '''\n",
        "  read_tool = file_tools.get_tools()[-3]\n",
        "  try:\n",
        "    return read_tool.invoke({\"file_path\": file_name})\n",
        "  except Exception as e:\n",
        "    return f'Не удалось прочитать файл: {e}'"
      ],
      "metadata": {
        "id": "pq5xrmbAbVxs"
      },
      "execution_count": 10,
      "outputs": []
    },
    {
      "cell_type": "markdown",
      "source": [
        "### Работа с внешними источниками\n",
        "\n",
        "В качестве внешних источников информации выступает поисковик DuckDuckGo и YouTube.\n",
        "\n",
        "#### Инструмент для поиска через DuckDuckGo"
      ],
      "metadata": {
        "id": "pLX3FMcfbdOX"
      }
    },
    {
      "cell_type": "code",
      "source": [
        "from langchain_community.tools import DuckDuckGoSearchResults\n",
        "\n",
        "search =  DuckDuckGoSearchResults()\n",
        "\n",
        "@tool\n",
        "def search_web(query: str) -> str:\n",
        "    \"\"\"Поиск информации в Интернете. Передает запрос, возвращает выдачу поисковика.\\\n",
        "    Полученный результат надо обобщить и передать пользователю.\"\"\"\n",
        "    result = search.run(query)\n",
        "    writer_tool = file_tools.get_tools()[-2]\n",
        "    check_notes = file_tools.get_tools()[-1]\n",
        "    n = len(check_notes.invoke({}).split('\\n'))\n",
        "    writer_tool.invoke({\"file_path\": f'Запрос: {query}'+f' {n}'+'.txt', 'text': result})\n",
        "    return result"
      ],
      "metadata": {
        "id": "FALAAPjDbcUg"
      },
      "execution_count": 11,
      "outputs": []
    },
    {
      "cell_type": "markdown",
      "source": [
        "#### Инструмент для поиска и саммаризации видеороликов"
      ],
      "metadata": {
        "id": "znIZtJmzerPo"
      }
    },
    {
      "cell_type": "code",
      "source": [
        "from langchain_community.tools import YouTubeSearchTool\n",
        "from youtube_transcript_api import YouTubeTranscriptApi\n",
        "from youtubesearchpython import Video, ResultMode\n",
        "from langchain.chains.summarize import load_summarize_chain\n",
        "from langchain.text_splitter import CharacterTextSplitter\n",
        "from langchain_core.documents import Document\n",
        "from datetime import datetime, timedelta\n",
        "import json\n",
        "\n",
        "video_template = '''\n",
        "Название ролика: {}\n",
        "\n",
        "Канал: {}\n",
        "\n",
        "Продолжительность ролика: {}\n",
        "\n",
        "Дата публикации: {}\n",
        "\n",
        "Описание видео: {}\n",
        "\n",
        "\n",
        "'''\n",
        "\n",
        "yt = YouTubeSearchTool()\n",
        "sum_chain = load_summarize_chain(giga, chain_type=\"map_reduce\")\n",
        "\n",
        "\n",
        "@tool\n",
        "def find_video(query: str) -> str:\n",
        "  '''Поиск видео на YouTube. Возвращает название видео, продолжительность, \\\n",
        "  название канала и краткое содержание (если получится вытащить субтитры)\n",
        "  '''\n",
        "  links = yt.run(query)\n",
        "  links = json.loads(links.replace('\\'', '\"'))\n",
        "  video_result = ''\n",
        "  for i in links:\n",
        "    video_id = i.split('=')[1]\n",
        "    video_id = video_id.split('&')[0]\n",
        "    try:\n",
        "      yt_data = YouTubeTranscriptApi.get_transcript(video_id, languages=['ru', 'en'])\n",
        "      text1 = []\n",
        "      for j in yt_data:\n",
        "        text1.append(j['text'])\n",
        "        script = ' '.join(text1)\n",
        "      doc = Document(page_content=script)\n",
        "      split_docs = CharacterTextSplitter(chunk_size=1000, chunk_overlap=100).split_documents(\n",
        "      [doc])\n",
        "      res = sum_chain.run(split_docs)\n",
        "    except Exception as e:\n",
        "      res = 'Не удалось извлечь информацию.'\n",
        "    video_info = Video.getInfo(video_id, mode = ResultMode.json)\n",
        "    title = video_info[\"title\"]\n",
        "    channel = video_info[\"channel\"][\"name\"]\n",
        "    # Конвертация продолжительности видео из секунд в часы:минуты:секунды\n",
        "    duration_seconds = int(video_info['duration']['secondsText'])\n",
        "    duration_str = str(timedelta(seconds=duration_seconds))\n",
        "\n",
        "    # Конвертация даты публикации в формат дд.мм.гг\n",
        "    publish_date = datetime.strptime(video_info['publishDate'], \"%Y-%m-%dT%H:%M:%S%z\")\n",
        "    publish_date_str = publish_date.strftime(\"%d.%m.%y\")\n",
        "    video_result += video_template.format(title, channel, duration_str, publish_date_str, res)\n",
        "  writer_tool = file_tools.get_tools()[-2]\n",
        "  check_notes = file_tools.get_tools()[-1]\n",
        "  n = len(check_notes.invoke({}).split('\\n'))\n",
        "  writer_tool.invoke({\"file_path\": f'Видео: {query}'+f' {n}'+'.txt', 'text': video_result})\n",
        "  return video_result\n"
      ],
      "metadata": {
        "id": "q0__VxVmep4y"
      },
      "execution_count": 14,
      "outputs": []
    },
    {
      "cell_type": "markdown",
      "source": [
        "#### Инструмент для стирания истории сообщений в диалоге\n"
      ],
      "metadata": {
        "id": "KHwe6xI_iIZs"
      }
    },
    {
      "cell_type": "code",
      "source": [
        "@tool\n",
        "def memory_clearing() -> None:\n",
        "  '''Очищает историю диалога, позволяя начать разговор \\\n",
        "  пользователя и ассистента с чистого листа.\n",
        "  '''\n",
        "  global  chat_history_m\n",
        "  chat_history_m = []"
      ],
      "metadata": {
        "id": "a3C6dCxgiRor"
      },
      "execution_count": 12,
      "outputs": []
    },
    {
      "cell_type": "markdown",
      "source": [
        "### Создаем непосредственно агента\n",
        "Теперь, когда есть инструменты, можно создавать самого агента.\n",
        "\n",
        "Тут нужно быть внимательным при написании кода, поскольку в примерах кода агентов [LangChain](https://python.langchain.com/docs/use_cases/tool_use/quickstart/) и [GigaChain](https://github.com/ai-forever/gigachain/blob/dev/docs/docs/modules/agents/how_to/gigachat_phone_agent.ipynb) есть разночтения. Опираемся на GigaChain, чтобы реализовать работу с GigaChat."
      ],
      "metadata": {
        "id": "IYGmPg4LRsmR"
      }
    },
    {
      "cell_type": "code",
      "source": [
        "from langchain.agents import AgentExecutor, create_gigachat_functions_agent\n",
        "\n",
        "tools = [get_list_of_notes, write_note, read_note, find_video, search_web, memory_clearing]\n",
        "agent = create_gigachat_functions_agent(giga, tools)\n",
        "agent_executor = AgentExecutor(agent=agent, tools=tools, verbose=True)\n",
        "chat_history_m = []"
      ],
      "metadata": {
        "id": "QkNiLff2r8fz"
      },
      "execution_count": 18,
      "outputs": []
    },
    {
      "cell_type": "markdown",
      "source": [
        "## Делаем графический интерфейс в gradio\n",
        "Создаем интерфейс и организуем чат-структуру сообщений.\n",
        "\n"
      ],
      "metadata": {
        "id": "QNKTwuyjkdnq"
      }
    },
    {
      "cell_type": "code",
      "source": [
        "import gradio as gr\n",
        "from langchain_core.messages import AIMessage, HumanMessage, SystemMessage\n",
        "\n",
        "def respond(message, chat_history):\n",
        "    result = agent_executor.invoke(\n",
        "        {\n",
        "            \"chat_history\": chat_history_m,\n",
        "            \"input\": message,\n",
        "        }\n",
        "    )\n",
        "    chat_history_m.append(HumanMessage(content=message))\n",
        "    chat_history_m.append(AIMessage(content=result[\"output\"]))\n",
        "    chat_history.append((message, result[\"output\"]))\n",
        "    return \"\", chat_history\n",
        "\n",
        "def main():\n",
        "    with gr.Blocks() as demo:\n",
        "        with gr.Column():\n",
        "            chatbot = gr.Chatbot()\n",
        "            msg = gr.Textbox()\n",
        "            msg.submit(respond, [msg, chatbot], [msg, chatbot])\n",
        "    demo.launch(debug=True)\n",
        "\n",
        "if __name__ == \"__main__\":\n",
        "    main()\n"
      ],
      "metadata": {
        "id": "y1cW83XobGM9",
        "colab": {
          "base_uri": "https://localhost:8080/",
          "height": 1000
        },
        "outputId": "0de94ac0-4a7b-4bad-afd0-8d90b495b298"
      },
      "execution_count": 19,
      "outputs": [
        {
          "output_type": "stream",
          "name": "stdout",
          "text": [
            "Setting queue=True in a Colab notebook requires sharing enabled. Setting `share=True` (you can turn this off by setting `share=False` in `launch()` explicitly).\n",
            "\n",
            "Colab notebook detected. This cell will run indefinitely so that you can see errors and logs. To turn off, set debug=False in launch().\n",
            "Running on public URL: https://28342f9688f801c763.gradio.live\n",
            "\n",
            "This share link expires in 72 hours. For free permanent hosting and GPU upgrades, run `gradio deploy` from Terminal to deploy to Spaces (https://huggingface.co/spaces)\n"
          ]
        },
        {
          "output_type": "display_data",
          "data": {
            "text/plain": [
              "<IPython.core.display.HTML object>"
            ],
            "text/html": [
              "<div><iframe src=\"https://28342f9688f801c763.gradio.live\" width=\"100%\" height=\"500\" allow=\"autoplay; camera; microphone; clipboard-read; clipboard-write;\" frameborder=\"0\" allowfullscreen></iframe></div>"
            ]
          },
          "metadata": {}
        },
        {
          "output_type": "stream",
          "name": "stdout",
          "text": [
            "\n",
            "\n",
            "\u001b[1m> Entering new AgentExecutor chain...\u001b[0m\n",
            "\u001b[32;1m\u001b[1;3mЗдравствуйте! Я могу найти для вас информацию в интернете, написать текст или код на Python, сочинить песню, стихотворение или даже рассказ, а также поговорить с вами обо всём, что вас интересует.\u001b[0m\n",
            "\n",
            "\u001b[1m> Finished chain.\u001b[0m\n",
            "\n",
            "\n",
            "\u001b[1m> Entering new AgentExecutor chain...\u001b[0m\n",
            "\u001b[32;1m\u001b[1;3mУ меня есть различные встроенные функции, такие как создание текстов, программирование на Python, ответы на общие вопросы, общение с вами и многое другое. Могу я чем-то помочь вам?\u001b[0m\n",
            "\n",
            "\u001b[1m> Finished chain.\u001b[0m\n",
            "\n",
            "\n",
            "\u001b[1m> Entering new AgentExecutor chain...\u001b[0m\n",
            "\u001b[32;1m\u001b[1;3m\n",
            "Invoking: `get_list_of_notes` with `{}`\n",
            "\n",
            "\n",
            "\u001b[0m\u001b[36;1m\u001b[1;3mЗапрос: Сергей Тращенков 1.txt\n",
            "Видео: Сергей Тращенков 1.txt\u001b[0m\u001b[32;1m\u001b[1;3m[]\u001b[0m\n",
            "\n",
            "\u001b[1m> Finished chain.\u001b[0m\n",
            "\n",
            "\n",
            "\u001b[1m> Entering new AgentExecutor chain...\u001b[0m\n",
            "\u001b[32;1m\u001b[1;3m\n",
            "Invoking: `search_web` with `{'query': 'gigachain'}`\n",
            "responded: Добавил в очередь на генерацию...\n",
            "\n",
            "\u001b[0m\u001b[33;1m\u001b[1;3m[snippet: pip install gigachain or pip install langsmith && conda install gigachain -c conda-forge. 🤔 What is this? Large language models (LLMs) are emerging as a transformative technology, enabling developers to build applications that they previously could not. However, using these LLMs in isolation is often insufficient for creating a truly ..., title: gigachain · PyPI, link: https://pypi.org/project/gigachain/], [snippet: I want to present new integration for Home Assistant - with LangChain/GigaChain You can use it as Voice Assistant Basically it should be generic replacement for OpenAI Conversation integration. In short terms - you can use any LLM model that supported by LangChain in Home Assistant as Voice Assistant. Currently supported are GigaChat, YandexGPT and OpenAI But take a look on what can be ..., title: New integration - LangChain/GigaChain (all in one LLM), link: https://community.home-assistant.io/t/new-integration-langchain-gigachain-all-in-one-llm/690547], [snippet: As gigachain-core contains the base abstractions and runtime for the whole LangChain ecosystem, we will communicate any breaking changes with advance notice and version bumps. The exception for this is anything in gigachain_core.beta. The reason for gigachain_core.beta is that given the rate of change of the field, being able to move quickly is ..., title: gigachain-core · PyPI, link: https://pypi.org/project/gigachain-core/], [snippet: Hashes for gigachain_openai-.1.1.tar.gz; Algorithm Hash digest; SHA256: f66bb6d5317a6182c225b906accc3e8895a5877c93100f84a8eb49937db97bbe: Copy : MD5, title: gigachain-openai · PyPI, link: https://pypi.org/project/gigachain-openai/]\u001b[0m\u001b[32;1m\u001b[1;3mЯ нашел несколько результатов для \"gigachain\". Это похоже на проект с открытым исходным кодом, связанный с технологией больших языковых моделей. Он предоставляет базовые абстракции и среду выполнения для экосистемы LangChain. Есть также упоминания о gigachain-openai и gigachain-core. Есть ли что-то еще, с чем я могу вам помочь?\u001b[0m\n",
            "\n",
            "\u001b[1m> Finished chain.\u001b[0m\n",
            "\n",
            "\n",
            "\u001b[1m> Entering new AgentExecutor chain...\u001b[0m\n",
            "\u001b[32;1m\u001b[1;3m\n",
            "Invoking: `find_video` with `{'query': 'gigachain'}`\n",
            "responded: Запускаю процесс генерации...\n",
            "\n",
            "\u001b[0m\u001b[36;1m\u001b[1;3m\n",
            "Название ролика: g3ox_em - GigaChad Theme (Phonk House Version)\n",
            "\n",
            "Канал: g3ox_em\n",
            "\n",
            "Продолжительность ролика: 0:02:26\n",
            "\n",
            "Дата публикации: 18.08.22\n",
            "\n",
            "Описание видео: \"Три [Музыка] [Музыка] это [Музыка] [Музыка] [Аплодисменты] [Музыка] о [Музыка] [Музыка] [Музыка] так [Аплодисменты] [Музыка] делай [Аплодисменты] [Музыка] [Аплодисменты] [Музыка] ты\"\n",
            "\n",
            "\n",
            "\n",
            "Название ролика: 10 HOURS! g3ox_em - GigaChad Theme (Phonk House Version)\n",
            "\n",
            "Канал: AllFreeMusic\n",
            "\n",
            "Продолжительность ролика: 10:17:22\n",
            "\n",
            "Дата публикации: 11.11.22\n",
            "\n",
            "Описание видео: В диалоге один человек выражает благодарность другому за оказанную помощь и поддержку.\n",
            "\n",
            "\n",
            "\u001b[0m\u001b[32;1m\u001b[1;3mЯ нашел два видео про GigaChad Theme на Phonk House Version на канале g3ox_em и одно десятичасовое видео на канале AllFreeMusic.\u001b[0m\n",
            "\n",
            "\u001b[1m> Finished chain.\u001b[0m\n",
            "\n",
            "\n",
            "\u001b[1m> Entering new AgentExecutor chain...\u001b[0m\n",
            "\u001b[32;1m\u001b[1;3m\n",
            "Invoking: `get_list_of_notes` with `{}`\n",
            "\n",
            "\n",
            "\u001b[0m\u001b[36;1m\u001b[1;3mЗапрос: Сергей Тращенков 1.txt\n",
            "Видео: gigachain 3.txt\n",
            "Видео: Сергей Тращенков 1.txt\n",
            "Запрос: gigachain 2.txt\u001b[0m\u001b[32;1m\u001b[1;3m- вот список заметок, которые у меня есть:\u001b[0m\n",
            "\n",
            "\u001b[1m> Finished chain.\u001b[0m\n",
            "\n",
            "\n",
            "\u001b[1m> Entering new AgentExecutor chain...\u001b[0m\n",
            "\u001b[32;1m\u001b[1;3m\n",
            "Invoking: `read_note` with `{'file_name': 'Видео: Сергей Тращенков 1.txt'}`\n",
            "responded: Запускаю процесс чтения...\n",
            "\n",
            "\u001b[0m\u001b[38;5;200m\u001b[1;3m\n",
            "Название ролика: Короткометражный фильм \"Известный возраст\" (2020), автор Сергей Тращенков\n",
            "\n",
            "Канал: Кинокомпания «Первое Кино»\n",
            "\n",
            "Продолжительность ролика: 0:06:23\n",
            "\n",
            "Дата публикации: 01.02.22\n",
            "\n",
            "Описание видео: Археология помогает изучать историю и культуру древних людей. Автор принял участие в археологических раскопках под руководством Салмина Сергея Анатольевича. В ходе работы они обнаружили слой курганного некрополя. Определение возраста исторических артефактов включает методы дендрохронологии, стратиграфии и радиоуглеродного анализа. Последний метод, открытый в 1948 году, используется для точного определения возраста объектов с точностью до года. Этот метод был использован для определения возраста египетских пирамид, Стоунхенджа и скифского кургана.\n",
            "\n",
            "\n",
            "\n",
            "Название ролика: Как начать работать с GigaChat API? Подробный туториал на Python\n",
            "\n",
            "Канал: Сергей Тращенков\n",
            "\n",
            "Продолжительность ролика: 0:48:46\n",
            "\n",
            "Дата публикации: 03.02.24\n",
            "\n",
            "Описание видео: Автор делится опытом использования скринкастов для обучения и рассказывает о своих планах на будущее. Он также объясняет, как получить доступ к API GigaChat и использовать его для создания текста и изображений.\n",
            "\n",
            "\n",
            "\u001b[0m\u001b[32;1m\u001b[1;3m- я просмотрел содержимое заметки \"Видео: Сергей Тращенков 1.txt\". Вот информация о двух видеороликах. Первое видео называется \"Короткометражный фильм \"Известный возраст\" (2020)\", оно опубликовано на канале \"Кинокомпания «Первое Кино»\" и длится 6 минут и 23 секунды. Второе видео называется \"Как начать работать с GigaChat API? Подробный туториал на Python\", оно опубликовано на канале \"Сергей Тращенков\" и длится 48 минут и 46 секунд.\u001b[0m\n",
            "\n",
            "\u001b[1m> Finished chain.\u001b[0m\n",
            "Keyboard interruption in main thread... closing server.\n",
            "Killing tunnel 127.0.0.1:7860 <> https://28342f9688f801c763.gradio.live\n"
          ]
        }
      ]
    },
    {
      "cell_type": "code",
      "source": [],
      "metadata": {
        "id": "ncZpvStRTOGy"
      },
      "execution_count": null,
      "outputs": []
    }
  ]
}